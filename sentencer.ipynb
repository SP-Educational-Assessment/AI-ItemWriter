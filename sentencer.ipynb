{
 "cells": [
  {
   "cell_type": "markdown",
   "id": "02268b4e-f965-43f8-afa7-f7b0676c5cd4",
   "metadata": {},
   "source": [
    "# Word Doc Summariser\n",
    "\n",
    "Summarises a Word doc for a child."
   ]
  },
  {
   "cell_type": "code",
   "execution_count": 1,
   "id": "f4d5d3f9-a22b-4d38-81ed-597e05558741",
   "metadata": {},
   "outputs": [],
   "source": [
    "import os\n",
    "from dotenv import load_dotenv\n",
    "import re\n",
    "import spacy\n",
    "from spacy.lang.en import English"
   ]
  },
  {
   "cell_type": "code",
   "execution_count": 12,
   "id": "2972aefe-b7be-47bc-8277-5d5bbb60c50b",
   "metadata": {},
   "outputs": [],
   "source": [
    "s1 = \"\"\"\n",
    "Children were involved in the development of a new English language test. They were asked to give their opinions and ideas through online interviews and face-to-face focus groups. Their ideas helped shape the content and processes of the final test.\n",
    "\"\"\"\n",
    "\n",
    "s2 = \"\"\"\n",
    "This article talks about how research that involves children can be realistic. It depends on the questions, the age of the children, and the type of research. Research that is less relevant to children or with younger children can be harder to do. But, it is\n",
    "\"\"\""
   ]
  },
  {
   "cell_type": "code",
   "execution_count": 15,
   "id": "27acd409-1ae9-45c3-b457-a18abd4aa239",
   "metadata": {},
   "outputs": [],
   "source": [
    "nlp = spacy.load(\"en_core_web_sm\")\n",
    "\n",
    "def returnFullSentences(text):\n",
    "    sentences = []\n",
    "    doc = nlp(text)\n",
    "    for sent in doc.sents:\n",
    "        lastChar = sent.text[-1:]\n",
    "        if lastChar in ['.', '!', '?']:\n",
    "            sentences.append(sent.text)\n",
    "\n",
    "    return ' '.join(sentences)"
   ]
  },
  {
   "cell_type": "code",
   "execution_count": 16,
   "id": "4c85f89d",
   "metadata": {},
   "outputs": [
    {
     "data": {
      "text/plain": [
       "'\\nChildren were involved in the development of a new English language test. They were asked to give their opinions and ideas through online interviews and face-to-face focus groups.'"
      ]
     },
     "execution_count": 16,
     "metadata": {},
     "output_type": "execute_result"
    }
   ],
   "source": [
    "newPara = returnFullSentences(s1)\n",
    "\n",
    "(newPara)"
   ]
  },
  {
   "cell_type": "code",
   "execution_count": 17,
   "id": "ed461e8a",
   "metadata": {},
   "outputs": [
    {
     "data": {
      "text/plain": [
       "'\\nThis article talks about how research that involves children can be realistic. It depends on the questions, the age of the children, and the type of research. Research that is less relevant to children or with younger children can be harder to do.'"
      ]
     },
     "execution_count": 17,
     "metadata": {},
     "output_type": "execute_result"
    }
   ],
   "source": [
    "newPara = returnFullSentences(s2)\n",
    "\n",
    "(newPara)"
   ]
  },
  {
   "cell_type": "code",
   "execution_count": null,
   "id": "0eb1bf25-4c5e-40e0-bd9a-ff0c71b024e9",
   "metadata": {},
   "outputs": [],
   "source": []
  }
 ],
 "metadata": {
  "kernelspec": {
   "display_name": "nlu",
   "language": "python",
   "name": "python3"
  },
  "language_info": {
   "codemirror_mode": {
    "name": "ipython",
    "version": 3
   },
   "file_extension": ".py",
   "mimetype": "text/x-python",
   "name": "python",
   "nbconvert_exporter": "python",
   "pygments_lexer": "ipython3",
   "version": "3.11.0"
  }
 },
 "nbformat": 4,
 "nbformat_minor": 5
}
