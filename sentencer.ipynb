{
 "cells": [
  {
   "cell_type": "markdown",
   "id": "02268b4e-f965-43f8-afa7-f7b0676c5cd4",
   "metadata": {},
   "source": [
    "# Word Doc Summariser\n",
    "\n",
    "This notebook shows how to parse English sentences and remove any that we incomplete (do not have a final punctuation)."
   ]
  },
  {
   "cell_type": "code",
   "execution_count": null,
   "id": "f4d5d3f9-a22b-4d38-81ed-597e05558741",
   "metadata": {},
   "outputs": [],
   "source": [
    "import spacy"
   ]
  },
  {
   "cell_type": "code",
   "execution_count": null,
   "id": "2972aefe-b7be-47bc-8277-5d5bbb60c50b",
   "metadata": {},
   "outputs": [],
   "source": [
    "s1 = \"\"\"\n",
    "Children were involved in the development of a new English language test. They were asked to give their opinions and ideas through online interviews and face-to-face focus groups. Their ideas helped shape the content and processes of the final test.\n",
    "\"\"\"\n",
    "\n",
    "s2 = \"\"\"\n",
    "This article talks about how research that involves children can be realistic. It depends on the questions, the age of the children, and the type of research. Research that is less relevant to children or with younger children can be harder to do. But, it is\n",
    "\"\"\""
   ]
  },
  {
   "cell_type": "code",
   "execution_count": null,
   "id": "27acd409-1ae9-45c3-b457-a18abd4aa239",
   "metadata": {},
   "outputs": [],
   "source": [
    "nlp = spacy.load(\"en_core_web_sm\")\n",
    "stopMarks = set('?!.')\n",
    "\n",
    "\n",
    "def returnFullSentences(text):\n",
    "    doc = nlp(text)\n",
    "    sentences = [s.text for s in doc.sents if s.text[-1:] in stopMarks]\n",
    "    return ' '.join(sentences)"
   ]
  },
  {
   "cell_type": "code",
   "execution_count": null,
   "id": "4c85f89d",
   "metadata": {},
   "outputs": [],
   "source": [
    "newPara = returnFullSentences(s1)\n",
    "\n",
    "assert newPara == \"\\nChildren were involved in the development of a new English language test. They were asked to give their opinions and ideas through online interviews and face-to-face focus groups.\"\n",
    "\n",
    "(newPara)"
   ]
  },
  {
   "cell_type": "code",
   "execution_count": null,
   "id": "ed461e8a",
   "metadata": {},
   "outputs": [],
   "source": [
    "newPara = returnFullSentences(s2)\n",
    "\n",
    "assert newPara == \"\\nThis article talks about how research that involves children can be realistic. It depends on the questions, the age of the children, and the type of research. Research that is less relevant to children or with younger children can be harder to do.\"\n",
    "\n",
    "(newPara)"
   ]
  },
  {
   "cell_type": "code",
   "execution_count": null,
   "id": "b5a0d3c1-b34c-48ca-a48e-e7356e220018",
   "metadata": {},
   "outputs": [],
   "source": []
  }
 ],
 "metadata": {
  "kernelspec": {
   "display_name": "Python 3 (ipykernel)",
   "language": "python",
   "name": "python3"
  },
  "language_info": {
   "codemirror_mode": {
    "name": "ipython",
    "version": 3
   },
   "file_extension": ".py",
   "mimetype": "text/x-python",
   "name": "python",
   "nbconvert_exporter": "python",
   "pygments_lexer": "ipython3",
   "version": "3.11.0"
  }
 },
 "nbformat": 4,
 "nbformat_minor": 5
}
