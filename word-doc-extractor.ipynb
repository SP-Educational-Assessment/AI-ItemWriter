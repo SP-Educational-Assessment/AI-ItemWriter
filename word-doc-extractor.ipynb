{
 "cells": [
  {
   "cell_type": "markdown",
   "id": "b7e3edcd-5215-4024-a5a8-3cce94141162",
   "metadata": {},
   "source": [
    "# Word doc exrtactor\n",
    "\n",
    "We'll show how to extract text from a Word doc"
   ]
  },
  {
   "cell_type": "code",
   "execution_count": null,
   "id": "d0eb83f8-0e8f-4461-b583-838ffd1a949b",
   "metadata": {},
   "outputs": [],
   "source": [
    "import re\n",
    "import json\n",
    "from docx import Document"
   ]
  },
  {
   "cell_type": "code",
   "execution_count": null,
   "id": "b591a7b2-401b-4e8d-a3d5-f9763a4f7623",
   "metadata": {},
   "outputs": [],
   "source": [
    "fileName = 'data/ChatGPT.docx'\n",
    "document = Document(fileName)"
   ]
  },
  {
   "cell_type": "code",
   "execution_count": null,
   "id": "1fbc363d-1a77-4f6d-b28f-0d505de0842d",
   "metadata": {},
   "outputs": [],
   "source": [
    "for para in document.paragraphs:\n",
    "    text = para.text\n",
    "    paraLen = len(text)\n",
    "    if paraLen > 300:\n",
    "        print(text)"
   ]
  }
 ],
 "metadata": {
  "kernelspec": {
   "display_name": "Python 3 (ipykernel)",
   "language": "python",
   "name": "python3"
  },
  "language_info": {
   "codemirror_mode": {
    "name": "ipython",
    "version": 3
   },
   "file_extension": ".py",
   "mimetype": "text/x-python",
   "name": "python",
   "nbconvert_exporter": "python",
   "pygments_lexer": "ipython3",
   "version": "3.11.0"
  }
 },
 "nbformat": 4,
 "nbformat_minor": 5
}
