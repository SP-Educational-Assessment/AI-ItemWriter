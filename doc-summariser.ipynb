{
 "cells": [
  {
   "cell_type": "markdown",
   "id": "02268b4e-f965-43f8-afa7-f7b0676c5cd4",
   "metadata": {},
   "source": [
    "# Word Doc Summariser\n",
    "\n",
    "Summarises a Word doc for a child."
   ]
  },
  {
   "cell_type": "code",
   "execution_count": 1,
   "id": "f4d5d3f9-a22b-4d38-81ed-597e05558741",
   "metadata": {},
   "outputs": [],
   "source": [
    "import os\n",
    "import openai\n",
    "from dotenv import load_dotenv\n",
    "import re"
   ]
  },
  {
   "cell_type": "code",
   "execution_count": 2,
   "id": "2972aefe-b7be-47bc-8277-5d5bbb60c50b",
   "metadata": {},
   "outputs": [],
   "source": [
    "load_dotenv()\n",
    "\n",
    "openai.api_key = os.getenv(\"OPENAI_API_KEY\")\n",
    "openai.organization = os.getenv(\"OPENAI_ORG\")"
   ]
  },
  {
   "cell_type": "code",
   "execution_count": 3,
   "id": "bcad62fe-cf4c-4db2-91ba-23ee6786e4a4",
   "metadata": {},
   "outputs": [],
   "source": [
    "def summarise4Child(text):\n",
    "    summarisationPrompt = \"Summarize this for an ten year old child:\\n\\n\"\n",
    "    fullPrompt = ''.join([summarisationPrompt, text])\n",
    "    numWords = len(re.findall(r'\\w+', text))\n",
    "    tokens = numWords // 2\n",
    "    \n",
    "    response = openai.Completion.create(\n",
    "        model=\"text-davinci-003\",\n",
    "        prompt=fullPrompt,\n",
    "        temperature=0.7,\n",
    "        max_tokens=tokens,\n",
    "        top_p=1.0,\n",
    "        frequency_penalty=0.0,\n",
    "        presence_penalty=0.0)\n",
    "    \n",
    "    firstChoice = response.choices[0]\n",
    "    summary = firstChoice['text']\n",
    "    \n",
    "    return summary"
   ]
  },
  {
   "cell_type": "code",
   "execution_count": 4,
   "id": "ad6c69bb-d118-4ebb-b89d-91643d2ad6ba",
   "metadata": {},
   "outputs": [],
   "source": [
    "with open('data/abstract.txt', 'r') as file:\n",
    "    abstract = file.read().replace('\\n', '')"
   ]
  },
  {
   "cell_type": "code",
   "execution_count": 5,
   "id": "4c8831e5-423a-407a-814a-110ce7e3dfcb",
   "metadata": {},
   "outputs": [],
   "source": [
    "abstractSummary = summarise4Child(abstract)"
   ]
  },
  {
   "cell_type": "code",
   "execution_count": 6,
   "id": "1d37d466-b289-42d9-8472-f6495cb8cb64",
   "metadata": {},
   "outputs": [],
   "source": [
    "with open('data/introduction.txt', 'r') as file:\n",
    "    introduction = file.read().replace('\\n', '')"
   ]
  },
  {
   "cell_type": "code",
   "execution_count": 7,
   "id": "94a94878-65d4-4dc9-a12c-815da016c411",
   "metadata": {},
   "outputs": [],
   "source": [
    "introSummary = summarise4Child(introduction)"
   ]
  },
  {
   "cell_type": "code",
   "execution_count": 8,
   "id": "03e5224a-6bac-4417-bdbd-7a19d860b002",
   "metadata": {},
   "outputs": [],
   "source": [
    "summary = ''.join([abstractSummary, '\\n\\n', introSummary])"
   ]
  },
  {
   "cell_type": "code",
   "execution_count": 9,
   "id": "27acd409-1ae9-45c3-b457-a18abd4aa239",
   "metadata": {},
   "outputs": [
    {
     "data": {
      "text/plain": [
       "'\\n\\nChild-centered research is a way of understanding what children need and are good at. It also involves children in creating tests and assessments to help measure their progress. In this research, 10-12 year-olds were asked questions online or in groups to give their opinions on how to create a test. Their ideas were used to create the final version of the test.\\n\\n\\n\\nChild-focused research is about understanding and listening to what children have to say. It involves asking children the right questions and using the right tools to measure their answers. It also involves making sure that research is conducted in a way that is respectful of children and their diverse backgrounds. Child-focused research helps us to better understand and meet the needs of children.'"
      ]
     },
     "execution_count": 9,
     "metadata": {},
     "output_type": "execute_result"
    }
   ],
   "source": [
    "(summary)"
   ]
  },
  {
   "cell_type": "code",
   "execution_count": null,
   "id": "0eb1bf25-4c5e-40e0-bd9a-ff0c71b024e9",
   "metadata": {},
   "outputs": [],
   "source": []
  }
 ],
 "metadata": {
  "kernelspec": {
   "display_name": "nlu",
   "language": "python",
   "name": "python3"
  },
  "language_info": {
   "codemirror_mode": {
    "name": "ipython",
    "version": 3
   },
   "file_extension": ".py",
   "mimetype": "text/x-python",
   "name": "python",
   "nbconvert_exporter": "python",
   "pygments_lexer": "ipython3",
   "version": "3.11.0"
  }
 },
 "nbformat": 4,
 "nbformat_minor": 5
}
